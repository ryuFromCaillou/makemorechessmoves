{
 "cells": [
  {
   "cell_type": "markdown",
   "id": "03f941f9",
   "metadata": {},
   "source": [
    "# Math 579 Advanced Mathematical Analysis – Project\n",
    "---\n",
    "**Date:** 2025-04-21\n",
    "**Name:** Samisoni Palu  \n",
    "**Instructor:** Dr. Sun\n"
   ]
  },
  {
   "cell_type": "code",
   "execution_count": 1,
   "id": "51b7c137",
   "metadata": {},
   "outputs": [],
   "source": [
    "import chess\n",
    "import json"
   ]
  },
  {
   "cell_type": "markdown",
   "id": "849aa8e6",
   "metadata": {},
   "source": [
    "## Utils\n",
    "Board data\n",
    "---\n",
    "`generate_uci_move_list`\n",
    "- list all possible moves as a 2-tuple of from_square, to_square\n",
    "- tweaked for promotion move counts\n",
    "- will Include Redundant or Invalid Moves\n",
    "    - **`a1a1`, `d4d4`**, etc. → no actual move is made\n",
    "    - **Illegal under any real game condition**\n",
    "    - Also includes nonsense like `h2h8` (rook-style moves for pawns)\n",
    "\n",
    "But remember:  \n",
    "> You’re not saying “these are all valid moves”  \n",
    "> **this is the full move *vocabulary***—the possible *labels* in a classification task.\n",
    "> That is, our **vocabulary** list is all the two-tuple pairings of squares, e.g. (`h2g3`)\n",
    "\n",
    "**Benefits of the chosen Vocabulary**\n",
    "\n",
    "1. Simplicity in Output Shape\n",
    "    - 1-to-1 mapping: index ↔ UCI\n",
    "    - You don’t need dynamic output heads or custom decoders\n",
    "    - You can store logits as `torch.tensor([4672])` and just mask out illegal ones at runtime\n",
    "\n",
    "2. Consistency\n",
    "    - Your label space is fixed across:\n",
    "      - Training\n",
    "      - Inference\n",
    "      - Evaluation\n",
    "\n",
    "3. Non-moves Never Get Trained On\n",
    "    - No master ever plays `a1a1`\n",
    "    - So those output indices **never get gradient updates**\n",
    "    - They just sit in the model—harmless dead neurons\n",
    "\n",
    "**Why You Might Remove Redundant Moves**\n",
    "\n",
    "1. Smaller Output Space\n",
    "    - Saves compute on final linear layer and softmax\n",
    "    - Slightly faster training (maybe)\n",
    "\n",
    "2. Model Capacity Allocation\n",
    "    - You force the network to **only ever consider valid move templates**\n",
    "    - Could lead to sharper learning curve\n",
    "\n",
    "But you pay with **more complexity**:\n",
    "- Dynamic move indexing\n",
    "- Pre-mask needs to align with training mask\n",
    "- Harder debugging\n",
    "\n",
    "---\n",
    "\n",
    "## 🧠 Final Recommendation (For You Now)\n",
    "\n",
    "> **Keep all UCI-formatted from-to combinations**, including non-moves like `a1a1`.\n",
    "\n",
    "Why?\n",
    "\n",
    "- You're just starting Phase 2\n",
    "- You want clarity, consistency, and simplicity\n",
    "- These junk moves won't hurt anything—they’ll just never activate\n",
    "\n",
    "Later, if you *prove* they introduce drag or harm performance, you can refactor. But not now.  \n",
    "Now is about **structure, execution, and momentum**.\n",
    "\n",
    "Run with it.\n"
   ]
  },
  {
   "cell_type": "code",
   "execution_count": 2,
   "id": "fb991bcc",
   "metadata": {},
   "outputs": [],
   "source": [
    "def generate_uci_move_list():\n",
    "    all_moves = set()\n",
    "    board = chess.Board()\n",
    "    for from_sq in chess.SQUARES:\n",
    "        for to_sq in chess.SQUARES:\n",
    "            move = chess.Move(from_sq, to_sq)\n",
    "            all_moves.add(move.uci())\n",
    "            # Add promotions\n",
    "            for promo in [chess.QUEEN, chess.ROOK, chess.BISHOP, chess.KNIGHT]:\n",
    "                promo_move = chess.Move(from_sq, to_sq, promotion=promo)\n",
    "                all_moves.add(promo_move.uci())\n",
    "    return sorted(all_moves)\n",
    "\n",
    "def save_move_index_map(path=\"data/move_index_map.json\"):\n",
    "    moves = generate_uci_move_list()\n",
    "    uci_to_index = {uci: i for i, uci in enumerate(moves)}\n",
    "    with open(path, \"w\") as f:\n",
    "        json.dump(uci_to_index, f)"
   ]
  },
  {
   "cell_type": "code",
   "execution_count": 7,
   "id": "f5de140c",
   "metadata": {},
   "outputs": [
    {
     "name": "stdout",
     "output_type": "stream",
     "text": [
      "<class 'int'>\n"
     ]
    },
    {
     "data": {
      "text/plain": [
       "Move.from_uci('0000')"
      ]
     },
     "execution_count": 7,
     "metadata": {},
     "output_type": "execute_result"
    }
   ],
   "source": [
    "print(type(chess.SQUARES[0]))\n",
    "chess.Move(chess.SQUARES[0], chess.SQUARES[0])"
   ]
  },
  {
   "cell_type": "markdown",
   "id": "e479fa28",
   "metadata": {},
   "source": []
  }
 ],
 "metadata": {
  "kernelspec": {
   "display_name": "Python 3",
   "language": "python",
   "name": "python3"
  },
  "language_info": {
   "codemirror_mode": {
    "name": "ipython",
    "version": 3
   },
   "file_extension": ".py",
   "mimetype": "text/x-python",
   "name": "python",
   "nbconvert_exporter": "python",
   "pygments_lexer": "ipython3",
   "version": "3.13.1"
  }
 },
 "nbformat": 4,
 "nbformat_minor": 5
}

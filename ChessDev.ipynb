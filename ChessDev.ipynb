{
 "cells": [
  {
   "cell_type": "markdown",
   "id": "0935eb18",
   "metadata": {},
   "source": [
    "**Chess Engine"
   ]
  }
 ],
 "metadata": {
  "language_info": {
   "name": "python"
  }
 },
 "nbformat": 4,
 "nbformat_minor": 5
}
